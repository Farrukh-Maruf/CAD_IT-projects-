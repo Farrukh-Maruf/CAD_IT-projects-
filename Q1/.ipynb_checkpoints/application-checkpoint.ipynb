{
 "cells": [
  {
   "cell_type": "code",
   "execution_count": 1,
   "id": "f62459ed",
   "metadata": {
    "scrolled": true
   },
   "outputs": [
    {
     "name": "stdout",
     "output_type": "stream",
     "text": [
      "Requirement already satisfied: dash in c:\\users\\pc\\anaconda3\\lib\\site-packages (2.14.0)\n",
      "Requirement already satisfied: dash-bootstrap-components in c:\\users\\pc\\anaconda3\\lib\\site-packages (1.5.0)\n",
      "Requirement already satisfied: pandas in c:\\users\\pc\\anaconda3\\lib\\site-packages (1.4.4)\n",
      "Requirement already satisfied: scikit-learn in c:\\users\\pc\\anaconda3\\lib\\site-packages (1.0.2)\n",
      "Requirement already satisfied: setuptools in c:\\users\\pc\\anaconda3\\lib\\site-packages (from dash) (63.4.1)\n",
      "Requirement already satisfied: ansi2html in c:\\users\\pc\\anaconda3\\lib\\site-packages (from dash) (1.8.0)\n",
      "Requirement already satisfied: Werkzeug<2.3.0 in c:\\users\\pc\\anaconda3\\lib\\site-packages (from dash) (2.0.3)\n",
      "Requirement already satisfied: dash-core-components==2.0.0 in c:\\users\\pc\\anaconda3\\lib\\site-packages (from dash) (2.0.0)\n",
      "Requirement already satisfied: Flask<2.3.0,>=1.0.4 in c:\\users\\pc\\anaconda3\\lib\\site-packages (from dash) (1.1.2)\n",
      "Requirement already satisfied: requests in c:\\users\\pc\\anaconda3\\lib\\site-packages (from dash) (2.28.1)\n",
      "Requirement already satisfied: dash-html-components==2.0.0 in c:\\users\\pc\\anaconda3\\lib\\site-packages (from dash) (2.0.0)\n",
      "Requirement already satisfied: typing-extensions>=4.1.1 in c:\\users\\pc\\anaconda3\\lib\\site-packages (from dash) (4.3.0)\n",
      "Requirement already satisfied: nest-asyncio in c:\\users\\pc\\anaconda3\\lib\\site-packages (from dash) (1.5.5)\n",
      "Requirement already satisfied: importlib-metadata in c:\\users\\pc\\anaconda3\\lib\\site-packages (from dash) (4.11.3)\n",
      "Requirement already satisfied: retrying in c:\\users\\pc\\anaconda3\\lib\\site-packages (from dash) (1.3.4)\n",
      "Requirement already satisfied: dash-table==5.0.0 in c:\\users\\pc\\anaconda3\\lib\\site-packages (from dash) (5.0.0)\n",
      "Requirement already satisfied: plotly>=5.0.0 in c:\\users\\pc\\anaconda3\\lib\\site-packages (from dash) (5.9.0)\n",
      "Requirement already satisfied: numpy>=1.18.5 in c:\\users\\pc\\anaconda3\\lib\\site-packages (from pandas) (1.24.4)\n",
      "Requirement already satisfied: pytz>=2020.1 in c:\\users\\pc\\anaconda3\\lib\\site-packages (from pandas) (2022.1)\n",
      "Requirement already satisfied: python-dateutil>=2.8.1 in c:\\users\\pc\\anaconda3\\lib\\site-packages (from pandas) (2.8.2)\n",
      "Requirement already satisfied: joblib>=0.11 in c:\\users\\pc\\anaconda3\\lib\\site-packages (from scikit-learn) (1.1.0)\n",
      "Requirement already satisfied: threadpoolctl>=2.0.0 in c:\\users\\pc\\anaconda3\\lib\\site-packages (from scikit-learn) (2.2.0)\n",
      "Requirement already satisfied: scipy>=1.1.0 in c:\\users\\pc\\anaconda3\\lib\\site-packages (from scikit-learn) (1.9.1)\n",
      "Requirement already satisfied: Jinja2>=2.10.1 in c:\\users\\pc\\anaconda3\\lib\\site-packages (from Flask<2.3.0,>=1.0.4->dash) (2.11.3)\n",
      "Requirement already satisfied: itsdangerous>=0.24 in c:\\users\\pc\\anaconda3\\lib\\site-packages (from Flask<2.3.0,>=1.0.4->dash) (2.0.1)\n",
      "Requirement already satisfied: click>=5.1 in c:\\users\\pc\\anaconda3\\lib\\site-packages (from Flask<2.3.0,>=1.0.4->dash) (8.0.4)\n",
      "Requirement already satisfied: tenacity>=6.2.0 in c:\\users\\pc\\anaconda3\\lib\\site-packages (from plotly>=5.0.0->dash) (8.0.1)\n",
      "Requirement already satisfied: six>=1.5 in c:\\users\\pc\\anaconda3\\lib\\site-packages (from python-dateutil>=2.8.1->pandas) (1.16.0)\n",
      "Requirement already satisfied: zipp>=0.5 in c:\\users\\pc\\anaconda3\\lib\\site-packages (from importlib-metadata->dash) (3.8.0)\n",
      "Requirement already satisfied: idna<4,>=2.5 in c:\\users\\pc\\anaconda3\\lib\\site-packages (from requests->dash) (3.3)\n",
      "Requirement already satisfied: charset-normalizer<3,>=2 in c:\\users\\pc\\anaconda3\\lib\\site-packages (from requests->dash) (2.0.4)\n",
      "Requirement already satisfied: certifi>=2017.4.17 in c:\\users\\pc\\anaconda3\\lib\\site-packages (from requests->dash) (2022.9.14)\n",
      "Requirement already satisfied: urllib3<1.27,>=1.21.1 in c:\\users\\pc\\anaconda3\\lib\\site-packages (from requests->dash) (1.26.11)\n",
      "Requirement already satisfied: colorama in c:\\users\\pc\\anaconda3\\lib\\site-packages (from click>=5.1->Flask<2.3.0,>=1.0.4->dash) (0.4.5)\n",
      "Requirement already satisfied: MarkupSafe>=0.23 in c:\\users\\pc\\anaconda3\\lib\\site-packages (from Jinja2>=2.10.1->Flask<2.3.0,>=1.0.4->dash) (2.0.1)\n",
      "Note: you may need to restart the kernel to use updated packages.\n"
     ]
    }
   ],
   "source": [
    "pip install dash dash-bootstrap-components pandas scikit-learn\n"
   ]
  },
  {
   "cell_type": "code",
   "execution_count": 11,
   "id": "7321310c",
   "metadata": {},
   "outputs": [
    {
     "data": {
      "text/html": [
       "\n",
       "        <iframe\n",
       "            width=\"100%\"\n",
       "            height=\"650\"\n",
       "            src=\"http://127.0.0.1:1000/\"\n",
       "            frameborder=\"0\"\n",
       "            allowfullscreen\n",
       "            \n",
       "        ></iframe>\n",
       "        "
      ],
      "text/plain": [
       "<IPython.lib.display.IFrame at 0x25a0a8cd430>"
      ]
     },
     "metadata": {},
     "output_type": "display_data"
    }
   ],
   "source": [
    "import dash\n",
    "from dash import dcc, html\n",
    "from dash.dependencies import Input, Output, State\n",
    "import pandas as pd\n",
    "import joblib\n",
    "\n",
    "# Load the trained machine learning model\n",
    "model = joblib.load('logistic_regression_model.pkl')\n",
    "\n",
    "# Create Dash app\n",
    "app = dash.Dash(__name__)\n",
    "app.title = \"Chiller Pump Condition Predictor\"\n",
    "\n",
    "# Define the layout of the app with added CSS styling\n",
    "app.layout = html.Div([\n",
    "    html.H1(\"Predicting the Condition of Chiller Pumps\", style={'textAlign': 'center', 'marginBottom': '30px'}),\n",
    "    html.Div([\n",
    "        html.Label(\"CHP1Temp1(Deg C)\", style={'marginBottom': '10px'}),\n",
    "        dcc.Input(id='temp1_1', type='number', debounce=True, style={'marginBottom': '10px'}),\n",
    "        \n",
    "        html.Label(\"CHP1Temp2(Deg C)\", style={'marginBottom': '10px'}),\n",
    "        dcc.Input(id='temp1_2', type='number', debounce=True, style={'marginBottom': '10px'}),\n",
    "        \n",
    "        html.Label(\"CHP2Temp1(Deg C)\", style={'marginBottom': '10px'}),\n",
    "        dcc.Input(id='temp2_1', type='number', debounce=True, style={'marginBottom': '10px'}),\n",
    "        \n",
    "        html.Label(\"CHP2Temp2(Deg C)\", style={'marginBottom': '10px'}),\n",
    "        dcc.Input(id='temp2_2', type='number', debounce=True, style={'marginBottom': '10px'}),\n",
    "        \n",
    "        html.Label(\"CHP1Vib1(mm/s)\", style={'marginBottom': '10px'}),\n",
    "        dcc.Input(id='vib1_1', type='number', debounce=True, style={'marginBottom': '10px'}),\n",
    "        \n",
    "        html.Label(\"CHP1Vib2(mm/s)\", style={'marginBottom': '10px'}),\n",
    "        dcc.Input(id='vib1_2', type='number', debounce=True, style={'marginBottom': '10px'}),\n",
    "        \n",
    "        html.Label(\"CHP2Vib1(mm/s)\", style={'marginBottom': '10px'}),\n",
    "        dcc.Input(id='vib2_1', type='number', debounce=True, style={'marginBottom': '10px'}),\n",
    "        \n",
    "        html.Label(\"CHP2Vib2(mm/s)\", style={'marginBottom': '10px'}),\n",
    "        dcc.Input(id='vib2_2', type='number', debounce=True, style={'marginBottom': '10px'}),\n",
    "        \n",
    "        html.Button('Predict', id='predict-button', n_clicks=0, style={'backgroundColor': '#4CAF50', 'color': 'white', 'padding': '14px 20px', 'fontSize': '16px', 'border': 'none', 'cursor': 'pointer', 'borderRadius': '4px'})\n",
    "    ], style={'maxWidth': '400px', 'margin': '0 auto'}),\n",
    "    html.Div(id='prediction-output', style={'marginTop': '20px', 'textAlign': 'center'})\n",
    "])\n",
    "\n",
    "# Define callback to update prediction output\n",
    "@app.callback(\n",
    "    Output('prediction-output', 'children'),\n",
    "    [Input('predict-button', 'n_clicks')],\n",
    "    [State('temp1_1', 'value'),\n",
    "     State('temp1_2', 'value'),\n",
    "     State('temp2_1', 'value'),\n",
    "     State('temp2_2', 'value'),\n",
    "     State('vib1_1', 'value'),\n",
    "     State('vib1_2', 'value'),\n",
    "     State('vib2_1', 'value'),\n",
    "     State('vib2_2', 'value')]\n",
    ")\n",
    "def update_output(n_clicks, temp1_1, temp1_2, temp2_1, temp2_2, vib1_1, vib1_2, vib2_1, vib2_2):\n",
    "    if n_clicks > 0 and all([temp1_1, temp1_2, temp2_1, temp2_2, vib1_1, vib1_2, vib2_1, vib2_2]):\n",
    "        # Create a DataFrame with the input data\n",
    "        data = pd.DataFrame({\n",
    "            'CHP1Temp1(Deg C)': [temp1_1],\n",
    "            'CHP1Temp2(Deg C)': [temp1_2],\n",
    "            'CHP2Temp1(Deg C)': [temp2_1],\n",
    "            'CHP2Temp2(Deg C)': [temp2_2],\n",
    "            'CHP1Vib1(mm/s)': [vib1_1],\n",
    "            'CHP1Vib2(mm/s)': [vib1_2],\n",
    "            'CHP2Vib1(mm/s)': [vib2_1],\n",
    "            'CHP2Vib2(mm/s)': [vib2_2]\n",
    "        })\n",
    "\n",
    "        # Make prediction\n",
    "        prediction = model.predict(data)\n",
    "\n",
    "               # Define output message based on prediction result\n",
    "        if prediction[0] == 0:\n",
    "            output_message = \"Fault\"\n",
    "            \n",
    "        else:\n",
    "            output_message = \"Normal\"\n",
    "            \n",
    "        return html.Div([\n",
    "            html.H2(f\"The predicted condition of chiller pumps is: {output_message}\", style={'color': 'red'})\n",
    "          ])\n",
    "\n",
    "if __name__ == '__main__':\n",
    "    app.run_server(debug=True, port=1000, threaded=True)\n"
   ]
  },
  {
   "cell_type": "code",
   "execution_count": null,
   "id": "d1f524c2",
   "metadata": {},
   "outputs": [],
   "source": []
  },
  {
   "cell_type": "code",
   "execution_count": null,
   "id": "c453e4ff",
   "metadata": {},
   "outputs": [],
   "source": []
  }
 ],
 "metadata": {
  "kernelspec": {
   "display_name": "Python 3 (ipykernel)",
   "language": "python",
   "name": "python3"
  },
  "language_info": {
   "codemirror_mode": {
    "name": "ipython",
    "version": 3
   },
   "file_extension": ".py",
   "mimetype": "text/x-python",
   "name": "python",
   "nbconvert_exporter": "python",
   "pygments_lexer": "ipython3",
   "version": "3.9.13"
  }
 },
 "nbformat": 4,
 "nbformat_minor": 5
}
