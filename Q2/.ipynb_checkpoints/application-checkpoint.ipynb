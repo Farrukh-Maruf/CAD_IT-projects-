{
 "cells": [
  {
   "cell_type": "code",
   "execution_count": 2,
   "id": "8c9b5fe4",
   "metadata": {},
   "outputs": [
    {
     "data": {
      "text/html": [
       "\n",
       "        <iframe\n",
       "            width=\"100%\"\n",
       "            height=\"650\"\n",
       "            src=\"http://127.0.0.1:2000/\"\n",
       "            frameborder=\"0\"\n",
       "            allowfullscreen\n",
       "            \n",
       "        ></iframe>\n",
       "        "
      ],
      "text/plain": [
       "<IPython.lib.display.IFrame at 0x1756b70feb0>"
      ]
     },
     "metadata": {},
     "output_type": "display_data"
    }
   ],
   "source": [
    "import dash\n",
    "from dash import html\n",
    "import pandas as pd\n",
    "import dash_table\n",
    "\n",
    "# Sample CSV file path\n",
    "CSV_FILE_PATH = 'final_storing.csv'\n",
    "\n",
    "# Load CSV file into a DataFrame\n",
    "df = pd.read_csv(CSV_FILE_PATH)\n",
    "\n",
    "# Initialize the Dash app\n",
    "app = dash.Dash(__name__)\n",
    "\n",
    "# Define the layout of the app\n",
    "app.layout = html.Div([\n",
    "    html.H1(\"Service Diagnosis\"),\n",
    "    \n",
    "    # Table to display CSV data\n",
    "    dash_table.DataTable(\n",
    "        id='table-container',\n",
    "        columns=[{'name': col, 'id': col} for col in df.columns],\n",
    "        data=df.to_dict('records'),\n",
    "        style_table={'overflowX': 'auto'},\n",
    "        style_header={'backgroundColor': 'rgb(230, 230, 230)', 'fontWeight': 'bold'},\n",
    "        style_cell={'minWidth': 95, 'maxWidth': 200, 'overflow': 'hidden', 'textOverflow': 'ellipsis'},\n",
    "        style_data={'border': '1px solid black'}\n",
    "    )\n",
    "])\n",
    "\n",
    "# Run the app\n",
    "if __name__ == '__main__':\n",
    "    app.run_server(debug=True, port=2000, threaded=True )\n"
   ]
  },
  {
   "cell_type": "code",
   "execution_count": null,
   "id": "ee68c98a",
   "metadata": {},
   "outputs": [],
   "source": []
  }
 ],
 "metadata": {
  "kernelspec": {
   "display_name": "Python 3 (ipykernel)",
   "language": "python",
   "name": "python3"
  },
  "language_info": {
   "codemirror_mode": {
    "name": "ipython",
    "version": 3
   },
   "file_extension": ".py",
   "mimetype": "text/x-python",
   "name": "python",
   "nbconvert_exporter": "python",
   "pygments_lexer": "ipython3",
   "version": "3.9.13"
  }
 },
 "nbformat": 4,
 "nbformat_minor": 5
}
